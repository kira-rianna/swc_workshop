{
 "cells": [
  {
   "cell_type": "code",
   "execution_count": 1,
   "metadata": {},
   "outputs": [],
   "source": [
    "full_name = 'Walter Munk'"
   ]
  },
  {
   "cell_type": "code",
   "execution_count": 3,
   "metadata": {},
   "outputs": [
    {
     "name": "stdout",
     "output_type": "stream",
     "text": [
      "k\n"
     ]
    }
   ],
   "source": [
    "print(full_name[10])"
   ]
  },
  {
   "cell_type": "code",
   "execution_count": 4,
   "metadata": {},
   "outputs": [
    {
     "name": "stdout",
     "output_type": "stream",
     "text": [
      "Mun\n"
     ]
    }
   ],
   "source": [
    "print(full_name[7:10])"
   ]
  },
  {
   "cell_type": "code",
   "execution_count": 5,
   "metadata": {},
   "outputs": [
    {
     "name": "stdout",
     "output_type": "stream",
     "text": [
      "Munk\n"
     ]
    }
   ],
   "source": [
    "print(full_name[7:11])"
   ]
  },
  {
   "cell_type": "code",
   "execution_count": 6,
   "metadata": {},
   "outputs": [
    {
     "name": "stdout",
     "output_type": "stream",
     "text": [
      "Munk\n"
     ]
    }
   ],
   "source": [
    "print(full_name[7:])"
   ]
  },
  {
   "cell_type": "code",
   "execution_count": 7,
   "metadata": {},
   "outputs": [
    {
     "name": "stdout",
     "output_type": "stream",
     "text": [
      "Munk\n"
     ]
    }
   ],
   "source": [
    "print(full_name[-4:])"
   ]
  },
  {
   "cell_type": "code",
   "execution_count": 8,
   "metadata": {},
   "outputs": [],
   "source": [
    "word = 'stressed'"
   ]
  },
  {
   "cell_type": "code",
   "execution_count": 9,
   "metadata": {},
   "outputs": [
    {
     "name": "stdout",
     "output_type": "stream",
     "text": [
      "str\n"
     ]
    }
   ],
   "source": [
    "print(word[0:3])"
   ]
  },
  {
   "cell_type": "code",
   "execution_count": 10,
   "metadata": {},
   "outputs": [
    {
     "name": "stdout",
     "output_type": "stream",
     "text": [
      "str\n"
     ]
    }
   ],
   "source": [
    "print(word[:3])"
   ]
  },
  {
   "cell_type": "code",
   "execution_count": 11,
   "metadata": {},
   "outputs": [
    {
     "name": "stdout",
     "output_type": "stream",
     "text": [
      "Wle uk\n"
     ]
    }
   ],
   "source": [
    "print(full_name[::2]) # we can pass a step to the slice"
   ]
  },
  {
   "cell_type": "code",
   "execution_count": 12,
   "metadata": {},
   "outputs": [
    {
     "name": "stdout",
     "output_type": "stream",
     "text": [
      "Walter Munk\n"
     ]
    }
   ],
   "source": [
    "print(full_name[::1])"
   ]
  },
  {
   "cell_type": "code",
   "execution_count": 13,
   "metadata": {},
   "outputs": [
    {
     "name": "stdout",
     "output_type": "stream",
     "text": [
      "knuM retlaW\n"
     ]
    }
   ],
   "source": [
    "print(full_name[::-1])"
   ]
  },
  {
   "cell_type": "code",
   "execution_count": 14,
   "metadata": {},
   "outputs": [
    {
     "name": "stdout",
     "output_type": "stream",
     "text": [
      "desserts\n"
     ]
    }
   ],
   "source": [
    "print(word[::-1])"
   ]
  },
  {
   "cell_type": "code",
   "execution_count": 15,
   "metadata": {},
   "outputs": [
    {
     "name": "stdout",
     "output_type": "stream",
     "text": [
      "W\n",
      "a\n",
      "l\n",
      "t\n",
      "e\n",
      "r\n",
      " \n",
      "M\n",
      "u\n",
      "n\n",
      "k\n"
     ]
    }
   ],
   "source": [
    "for char in full_name:\n",
    "    print(char)"
   ]
  },
  {
   "cell_type": "code",
   "execution_count": 17,
   "metadata": {},
   "outputs": [
    {
     "name": "stdout",
     "output_type": "stream",
     "text": [
      "1\n",
      "2\n",
      "3\n"
     ]
    }
   ],
   "source": [
    "for i in range(1,4):\n",
    "    print(i)"
   ]
  },
  {
   "cell_type": "code",
   "execution_count": 20,
   "metadata": {},
   "outputs": [],
   "source": [
    "x = 5"
   ]
  },
  {
   "cell_type": "code",
   "execution_count": 22,
   "metadata": {},
   "outputs": [
    {
     "name": "stdout",
     "output_type": "stream",
     "text": [
      "5\n",
      "10\n",
      "15\n"
     ]
    }
   ],
   "source": [
    "for x in range(1,4):\n",
    "    print(x*5)"
   ]
  },
  {
   "cell_type": "code",
   "execution_count": 23,
   "metadata": {},
   "outputs": [
    {
     "name": "stdout",
     "output_type": "stream",
     "text": [
      "5\n",
      "25\n",
      "125\n"
     ]
    }
   ],
   "source": [
    "value = 1\n",
    "for i in range(1,4):\n",
    "    value = value*5\n",
    "    print(value)"
   ]
  },
  {
   "cell_type": "code",
   "execution_count": 24,
   "metadata": {},
   "outputs": [
    {
     "name": "stdout",
     "output_type": "stream",
     "text": [
      "0 25\n",
      "1 125\n"
     ]
    }
   ],
   "source": [
    "value = 5\n",
    "for i in range(0,2):\n",
    "    value = value*5\n",
    "    print(i, value)"
   ]
  },
  {
   "cell_type": "code",
   "execution_count": 32,
   "metadata": {},
   "outputs": [
    {
     "name": "stdout",
     "output_type": "stream",
     "text": [
      "55\n"
     ]
    }
   ],
   "source": [
    "# Sum the first 10 intergers.\n",
    "total = 0\n",
    "for number in range(11):\n",
    "    total = total + number\n",
    "print(total)"
   ]
  },
  {
   "cell_type": "code",
   "execution_count": 33,
   "metadata": {},
   "outputs": [
    {
     "name": "stdout",
     "output_type": "stream",
     "text": [
      "before total is: 0\n",
      "0 0\n",
      "before total is: 0\n",
      "1 1\n",
      "before total is: 1\n",
      "2 3\n",
      "before total is: 3\n",
      "3 6\n",
      "before total is: 6\n",
      "4 10\n",
      "before total is: 10\n",
      "5 15\n",
      "before total is: 15\n",
      "6 21\n",
      "before total is: 21\n",
      "7 28\n",
      "before total is: 28\n",
      "8 36\n",
      "before total is: 36\n",
      "9 45\n",
      "before total is: 45\n",
      "10 55\n"
     ]
    }
   ],
   "source": [
    "total = 0\n",
    "for number in range(11):\n",
    "    print('before total is:', total)\n",
    "    total = total + number\n",
    "    print(number, total)"
   ]
  },
  {
   "cell_type": "code",
   "execution_count": 34,
   "metadata": {},
   "outputs": [
    {
     "name": "stdout",
     "output_type": "stream",
     "text": [
      "12\n"
     ]
    }
   ],
   "source": [
    "# Total length of the strings in the list: [\"red\", \"green\", \"blue\"] => 12\n",
    "total = 0\n",
    "for word in [\"red\", \"green\", \"blue\"]:\n",
    "    total = total + len(word)\n",
    "print(total)"
   ]
  },
  {
   "cell_type": "code",
   "execution_count": 35,
   "metadata": {},
   "outputs": [
    {
     "name": "stdout",
     "output_type": "stream",
     "text": [
      "primes are: [1, 3, 5, 7]\n"
     ]
    }
   ],
   "source": [
    "my_list = [1, 3, 5, 7]\n",
    "print('primes are:', my_list)"
   ]
  },
  {
   "cell_type": "code",
   "execution_count": 36,
   "metadata": {},
   "outputs": [
    {
     "name": "stdout",
     "output_type": "stream",
     "text": [
      "<class 'list'>\n"
     ]
    }
   ],
   "source": [
    "print(type(my_list))"
   ]
  },
  {
   "cell_type": "code",
   "execution_count": 37,
   "metadata": {},
   "outputs": [
    {
     "name": "stdout",
     "output_type": "stream",
     "text": [
      "first: 1 last: 7\n"
     ]
    }
   ],
   "source": [
    "print('first:', my_list[0], 'last:', my_list[-1])"
   ]
  },
  {
   "cell_type": "code",
   "execution_count": 38,
   "metadata": {},
   "outputs": [
    {
     "name": "stdout",
     "output_type": "stream",
     "text": [
      "1\n",
      "3\n",
      "5\n",
      "7\n"
     ]
    }
   ],
   "source": [
    "for i in my_list:\n",
    "    print(i)"
   ]
  },
  {
   "cell_type": "code",
   "execution_count": 39,
   "metadata": {},
   "outputs": [
    {
     "name": "stdout",
     "output_type": "stream",
     "text": [
      "['Munk', 'Keling', 'Sverdrup']\n"
     ]
    }
   ],
   "source": [
    "oceanographers = ['Munk', 'Keling', 'Sverdrup']\n",
    "print(oceanographers)"
   ]
  },
  {
   "cell_type": "code",
   "execution_count": 40,
   "metadata": {},
   "outputs": [
    {
     "name": "stdout",
     "output_type": "stream",
     "text": [
      "Keling\n"
     ]
    }
   ],
   "source": [
    "print(oceanographers[1])"
   ]
  },
  {
   "cell_type": "code",
   "execution_count": 41,
   "metadata": {},
   "outputs": [
    {
     "name": "stdout",
     "output_type": "stream",
     "text": [
      "oceanographers were: ['Munk', 'Keling', 'Sverdrup']\n",
      "oceanographers now are: ['Munk', 'Keeling', 'Sverdrup']\n"
     ]
    }
   ],
   "source": [
    "print('oceanographers were:', oceanographers)\n",
    "oceanographers[1] = 'Keeling'\n",
    "print('oceanographers now are:', oceanographers)"
   ]
  },
  {
   "cell_type": "code",
   "execution_count": 42,
   "metadata": {},
   "outputs": [],
   "source": [
    "name = 'Ralph Kellini'"
   ]
  },
  {
   "cell_type": "code",
   "execution_count": 43,
   "metadata": {},
   "outputs": [
    {
     "name": "stdout",
     "output_type": "stream",
     "text": [
      "i\n"
     ]
    }
   ],
   "source": [
    "print(name[-1])"
   ]
  },
  {
   "cell_type": "code",
   "execution_count": 44,
   "metadata": {},
   "outputs": [
    {
     "ename": "TypeError",
     "evalue": "'str' object does not support item assignment",
     "output_type": "error",
     "traceback": [
      "\u001b[1;31m---------------------------------------------------------------------------\u001b[0m",
      "\u001b[1;31mTypeError\u001b[0m                                 Traceback (most recent call last)",
      "\u001b[1;32m<ipython-input-44-50fffc1d2b01>\u001b[0m in \u001b[0;36m<module>\u001b[1;34m\u001b[0m\n\u001b[1;32m----> 1\u001b[1;33m \u001b[0mname\u001b[0m\u001b[1;33m[\u001b[0m\u001b[1;33m-\u001b[0m\u001b[1;36m1\u001b[0m\u001b[1;33m]\u001b[0m \u001b[1;33m=\u001b[0m \u001b[1;34m'g'\u001b[0m\u001b[1;33m\u001b[0m\u001b[1;33m\u001b[0m\u001b[0m\n\u001b[0m",
      "\u001b[1;31mTypeError\u001b[0m: 'str' object does not support item assignment"
     ]
    }
   ],
   "source": [
    "name[-1] = 'g'"
   ]
  },
  {
   "cell_type": "code",
   "execution_count": 45,
   "metadata": {},
   "outputs": [
    {
     "name": "stdout",
     "output_type": "stream",
     "text": [
      "name was Ralph Kellini\n",
      "name now is Ralph Keeling\n"
     ]
    }
   ],
   "source": [
    "print('name was', name)\n",
    "name = 'Ralph Keeling'\n",
    "print('name now is', name)"
   ]
  },
  {
   "cell_type": "code",
   "execution_count": 46,
   "metadata": {},
   "outputs": [],
   "source": [
    "grades = ['SIO221A', 9.9, 'SIO217B', 7.5, 'SIO211A', 8]"
   ]
  },
  {
   "cell_type": "code",
   "execution_count": 47,
   "metadata": {},
   "outputs": [
    {
     "name": "stdout",
     "output_type": "stream",
     "text": [
      "['SIO221A', 9.9, 'SIO217B', 7.5, 'SIO211A', 8]\n"
     ]
    }
   ],
   "source": [
    "print(grades)"
   ]
  },
  {
   "cell_type": "code",
   "execution_count": 48,
   "metadata": {},
   "outputs": [
    {
     "name": "stdout",
     "output_type": "stream",
     "text": [
      "['peppers', 'onions', 'jalapenos', 'tomatos']\n"
     ]
    }
   ],
   "source": [
    "salsa = ['peppers', 'onions', 'jalapenos', 'tomatos']\n",
    "print(salsa)"
   ]
  },
  {
   "cell_type": "code",
   "execution_count": 49,
   "metadata": {},
   "outputs": [
    {
     "name": "stdout",
     "output_type": "stream",
     "text": [
      "['peppers', 'onions', 'jalapenos', 'tomatos']\n"
     ]
    }
   ],
   "source": [
    "lukes_salsa = salsa\n",
    "print(lukes_salsa)"
   ]
  },
  {
   "cell_type": "code",
   "execution_count": 50,
   "metadata": {},
   "outputs": [
    {
     "name": "stdout",
     "output_type": "stream",
     "text": [
      "['peppers', 'onions', 'jalapenos', 'tomatos']\n",
      "['peppers', 'onions', 'jalapenos', 'tomatos']\n",
      "['peppers', 'onions', 'cilantro', 'tomatos']\n",
      "['peppers', 'onions', 'cilantro', 'tomatos']\n"
     ]
    }
   ],
   "source": [
    "print(salsa)\n",
    "print(lukes_salsa)\n",
    "lukes_salsa[2] = 'cilantro'\n",
    "print(salsa)\n",
    "print(lukes_salsa)"
   ]
  },
  {
   "cell_type": "code",
   "execution_count": 51,
   "metadata": {},
   "outputs": [],
   "source": [
    "my_salsa = ['peppers', 'onions', 'jalapenos', 'tomatos']"
   ]
  },
  {
   "cell_type": "code",
   "execution_count": 52,
   "metadata": {},
   "outputs": [
    {
     "name": "stdout",
     "output_type": "stream",
     "text": [
      "['peppers', 'onions', 'jalapenos', 'tomatos']\n",
      "['peppers', 'onions', 'cilantro', 'tomatos']\n"
     ]
    }
   ],
   "source": [
    "lukes_salsa = list(my_salsa)\n",
    "lukes_salsa[2] = 'cilantro'\n",
    "print(my_salsa)\n",
    "print(lukes_salsa)"
   ]
  },
  {
   "cell_type": "code",
   "execution_count": 56,
   "metadata": {},
   "outputs": [],
   "source": [
    "cruise = [['density', 'CTD'], ['velocity', 'ADCP'], ['chlorophyll', 'fluorometer']]"
   ]
  },
  {
   "cell_type": "code",
   "execution_count": 57,
   "metadata": {},
   "outputs": [
    {
     "name": "stdout",
     "output_type": "stream",
     "text": [
      "[['density', 'CTD'], ['velocity', 'ADCP'], ['chlorophyll', 'fluorometer']]\n"
     ]
    }
   ],
   "source": [
    "print(cruise)"
   ]
  },
  {
   "cell_type": "code",
   "execution_count": 55,
   "metadata": {},
   "outputs": [
    {
     "name": "stdout",
     "output_type": "stream",
     "text": [
      "['density', 'CTD']\n"
     ]
    }
   ],
   "source": [
    "print(cruise[0])"
   ]
  },
  {
   "cell_type": "code",
   "execution_count": 58,
   "metadata": {},
   "outputs": [
    {
     "name": "stdout",
     "output_type": "stream",
     "text": [
      "density\n"
     ]
    }
   ],
   "source": [
    "print(cruise[0][0])"
   ]
  },
  {
   "cell_type": "code",
   "execution_count": 60,
   "metadata": {},
   "outputs": [
    {
     "name": "stdout",
     "output_type": "stream",
     "text": [
      "fluorometer\n"
     ]
    }
   ],
   "source": [
    "print(cruise[-1][-1])"
   ]
  },
  {
   "cell_type": "code",
   "execution_count": 61,
   "metadata": {},
   "outputs": [
    {
     "name": "stdout",
     "output_type": "stream",
     "text": [
      "[['density', 'CTD'], ['velocity', 'ADCP'], ['chlorophyll', 'fluorometer']]\n"
     ]
    }
   ],
   "source": [
    "print(cruise)"
   ]
  },
  {
   "cell_type": "code",
   "execution_count": 62,
   "metadata": {},
   "outputs": [
    {
     "name": "stdout",
     "output_type": "stream",
     "text": [
      "[['density', 'CTD'], ['velocity', 'ADCP'], ['chlorophyll', 'fluorometer'], ['salinity', 'CTD']]\n"
     ]
    }
   ],
   "source": [
    "cruise.append(['salinity', 'CTD'])\n",
    "print(cruise)"
   ]
  },
  {
   "cell_type": "code",
   "execution_count": 63,
   "metadata": {},
   "outputs": [
    {
     "name": "stdout",
     "output_type": "stream",
     "text": [
      "[['density', 'CTD'], ['velocity', 'ADCP'], ['chlorophyll', 'fluorometer'], ['salinity', 'CTD'], ['density', 'CTD'], ['velocity', 'ADCP'], ['chlorophyll', 'fluorometer'], ['salinity', 'CTD']]\n"
     ]
    }
   ],
   "source": [
    "print(2*(cruise))"
   ]
  },
  {
   "cell_type": "code",
   "execution_count": 64,
   "metadata": {},
   "outputs": [
    {
     "name": "stdout",
     "output_type": "stream",
     "text": [
      "[['density', 'CTD'], ['velocity', 'ADCP'], ['chlorophyll', 'fluorometer'], ['salinity', 'CTD'], ['density', 'CTD'], ['velocity', 'ADCP'], ['chlorophyll', 'fluorometer'], ['salinity', 'CTD']]\n"
     ]
    }
   ],
   "source": [
    "print(cruise+cruise)"
   ]
  },
  {
   "cell_type": "code",
   "execution_count": 65,
   "metadata": {},
   "outputs": [
    {
     "name": "stdout",
     "output_type": "stream",
     "text": [
      "[1, 3]\n"
     ]
    }
   ],
   "source": [
    "odds = [1, 3]\n",
    "print(odds)"
   ]
  },
  {
   "cell_type": "code",
   "execution_count": 66,
   "metadata": {},
   "outputs": [
    {
     "name": "stdout",
     "output_type": "stream",
     "text": [
      "[1, 3, 5]\n"
     ]
    }
   ],
   "source": [
    "print(odds + [5])"
   ]
  },
  {
   "cell_type": "code",
   "execution_count": 67,
   "metadata": {},
   "outputs": [
    {
     "name": "stdout",
     "output_type": "stream",
     "text": [
      "odds before was: [1, 3]\n",
      "odds after appending is: [1, 3, 5]\n"
     ]
    }
   ],
   "source": [
    "print('odds before was:', odds)\n",
    "odds.append(5)\n",
    "print('odds after appending is:', odds)"
   ]
  },
  {
   "cell_type": "code",
   "execution_count": 70,
   "metadata": {},
   "outputs": [
    {
     "name": "stdout",
     "output_type": "stream",
     "text": [
      "[5, 3, 1]\n",
      "[1, 3, 5]\n"
     ]
    }
   ],
   "source": [
    "print(odds[::-1])\n",
    "print(odds)"
   ]
  },
  {
   "cell_type": "code",
   "execution_count": 71,
   "metadata": {},
   "outputs": [
    {
     "name": "stdout",
     "output_type": "stream",
     "text": [
      "[1, 3, 5]\n",
      "[5, 3, 1]\n"
     ]
    }
   ],
   "source": [
    "print(odds)\n",
    "odds.reverse()\n",
    "print(odds)"
   ]
  },
  {
   "cell_type": "code",
   "execution_count": 75,
   "metadata": {},
   "outputs": [
    {
     "name": "stdout",
     "output_type": "stream",
     "text": [
      "['s', 'u', 'r', 'f']\n"
     ]
    }
   ],
   "source": [
    "word = 'surf'\n",
    "word_list = []\n",
    "for char in word:\n",
    "    word_list = word_list + [char]\n",
    "print(word_list)"
   ]
  },
  {
   "cell_type": "code",
   "execution_count": 76,
   "metadata": {},
   "outputs": [
    {
     "name": "stdout",
     "output_type": "stream",
     "text": [
      "['s', 'u', 'r', 'f']\n"
     ]
    }
   ],
   "source": [
    "word = 'surf'\n",
    "word_list = []\n",
    "for char in word:\n",
    "    word_list.append(char)\n",
    "print(word_list)"
   ]
  },
  {
   "cell_type": "code",
   "execution_count": 79,
   "metadata": {},
   "outputs": [
    {
     "name": "stdout",
     "output_type": "stream",
     "text": [
      "['K', 'i', 'r', 'a']\n"
     ]
    }
   ],
   "source": [
    "word = 'ariK'\n",
    "word_list = []\n",
    "for char in word:\n",
    "    word_list = [char] + word_list\n",
    "print(word_list)"
   ]
  },
  {
   "cell_type": "code",
   "execution_count": 80,
   "metadata": {},
   "outputs": [],
   "source": [
    "planets = ['Tatooine', 'Naboo', 'Arakis', 'Jupiter', 'Alderan']"
   ]
  },
  {
   "cell_type": "code",
   "execution_count": 81,
   "metadata": {},
   "outputs": [
    {
     "name": "stdout",
     "output_type": "stream",
     "text": [
      "['Tatooine', 'Naboo', 'Arakis', 'Jupiter', 'Alderan']\n"
     ]
    }
   ],
   "source": [
    "print(planets)"
   ]
  },
  {
   "cell_type": "code",
   "execution_count": 82,
   "metadata": {},
   "outputs": [
    {
     "name": "stdout",
     "output_type": "stream",
     "text": [
      "['Tatooine', 'Naboo']\n"
     ]
    }
   ],
   "source": [
    "star_wars_planets = planets[0:2]\n",
    "print(star_wars_planets)"
   ]
  },
  {
   "cell_type": "code",
   "execution_count": 83,
   "metadata": {},
   "outputs": [],
   "source": [
    "string_for_slicing = 'Observation date: 02-Feb-2013'\n",
    "list_for_slicing = [['fluorine', 'F'], ['chlorine', 'Cl'], ['bromine', 'Br'], ['iodine', 'I'], ['astatine', 'At']]"
   ]
  },
  {
   "cell_type": "code",
   "execution_count": 86,
   "metadata": {},
   "outputs": [
    {
     "name": "stdout",
     "output_type": "stream",
     "text": [
      "2013\n"
     ]
    }
   ],
   "source": [
    "print(string_for_slicing[-4:])"
   ]
  },
  {
   "cell_type": "code",
   "execution_count": 87,
   "metadata": {},
   "outputs": [
    {
     "name": "stdout",
     "output_type": "stream",
     "text": [
      "[['chlorine', 'Cl'], ['bromine', 'Br'], ['iodine', 'I'], ['astatine', 'At']]\n"
     ]
    }
   ],
   "source": [
    "print(list_for_slicing[1:])"
   ]
  },
  {
   "cell_type": "code",
   "execution_count": 88,
   "metadata": {},
   "outputs": [
    {
     "name": "stdout",
     "output_type": "stream",
     "text": [
      "I notpssgre ntesae\n"
     ]
    }
   ],
   "source": [
    "beatles = \"In an octopus's garden in the shade\"\n",
    "print(beatles[::2])"
   ]
  },
  {
   "cell_type": "code",
   "execution_count": 89,
   "metadata": {},
   "outputs": [],
   "source": [
    "spring_quarter = [['linear algebra', 'A'], ['philosophy', 'B-'], ['fluid dynamics', 'A+'], ['history', 'A-']]"
   ]
  },
  {
   "cell_type": "code",
   "execution_count": 96,
   "metadata": {},
   "outputs": [
    {
     "name": "stdout",
     "output_type": "stream",
     "text": [
      "[['linear algebra', 'A-'], ['philosophy', 'A+'], ['fluid dynamics', 'B'], ['history', 'B+']]\n",
      "[['linear algebra', 'A'], ['philosophy', 'B-'], ['fluid dynamics', 'A+'], ['history', 'A-']]\n"
     ]
    }
   ],
   "source": [
    "my_spring_quarter = list(spring_quarter)\n",
    "my_spring_quarter[0] = ['linear algebra', 'A-']\n",
    "my_spring_quarter[1] = ['philosophy', 'A+']\n",
    "my_spring_quarter[2] = ['fluid dynamics', 'B']\n",
    "my_spring_quarter[3] = ['history', 'B+']\n",
    "print(my_spring_quarter)\n",
    "print(spring_quarter)"
   ]
  },
  {
   "cell_type": "code",
   "execution_count": 99,
   "metadata": {},
   "outputs": [
    {
     "name": "stdout",
     "output_type": "stream",
     "text": [
      "['A-', 'A+', 'B', 'B+']\n",
      "['linear algebra', 'philosophy', 'fluid dynamics', 'history']\n"
     ]
    }
   ],
   "source": [
    "my_grades = []\n",
    "my_classes = []\n",
    "for item in my_spring_quarter:\n",
    "    my_grades.append(item[1])\n",
    "    my_classes.append(item[0])\n",
    "print(my_grades)\n",
    "print(my_classes)"
   ]
  },
  {
   "cell_type": "code",
   "execution_count": 98,
   "metadata": {},
   "outputs": [
    {
     "name": "stdout",
     "output_type": "stream",
     "text": [
      "My grades are: ['A-', 'A+', 'B', 'B+']\n",
      "My classes are: ['linear algebra', 'philosophy', 'fluid dynamics', 'history']\n"
     ]
    }
   ],
   "source": [
    "print('My grades are:', my_grades)\n",
    "print('My classes are:', my_classes)"
   ]
  },
  {
   "cell_type": "code",
   "execution_count": 100,
   "metadata": {},
   "outputs": [],
   "source": [
    "my_variable = 5"
   ]
  },
  {
   "cell_type": "code",
   "execution_count": 102,
   "metadata": {},
   "outputs": [
    {
     "name": "stdout",
     "output_type": "stream",
     "text": [
      "<class 'bool'>\n"
     ]
    }
   ],
   "source": [
    "print(type(5 == 4))"
   ]
  },
  {
   "cell_type": "code",
   "execution_count": 103,
   "metadata": {},
   "outputs": [
    {
     "name": "stdout",
     "output_type": "stream",
     "text": [
      "True\n"
     ]
    }
   ],
   "source": [
    "print(5 == 5)"
   ]
  },
  {
   "cell_type": "code",
   "execution_count": 104,
   "metadata": {},
   "outputs": [
    {
     "name": "stdout",
     "output_type": "stream",
     "text": [
      "3.54 is large\n"
     ]
    }
   ],
   "source": [
    "mass = 3.54\n",
    "if mass > 3.0:\n",
    "    print(mass, 'is large')"
   ]
  },
  {
   "cell_type": "code",
   "execution_count": 105,
   "metadata": {},
   "outputs": [],
   "source": [
    "mass = 2.1\n",
    "if mass > 3.0:\n",
    "    print(mass, 'is large')"
   ]
  },
  {
   "cell_type": "code",
   "execution_count": 106,
   "metadata": {},
   "outputs": [
    {
     "name": "stdout",
     "output_type": "stream",
     "text": [
      "False\n"
     ]
    }
   ],
   "source": [
    "mass = 2.1\n",
    "print(mass > 3.00)"
   ]
  },
  {
   "cell_type": "code",
   "execution_count": 108,
   "metadata": {},
   "outputs": [
    {
     "name": "stdout",
     "output_type": "stream",
     "text": [
      "not greater\n"
     ]
    }
   ],
   "source": [
    "num = 37\n",
    "if num > 100:\n",
    "    print('greater')\n",
    "else:\n",
    "    print('not greater')"
   ]
  },
  {
   "cell_type": "code",
   "execution_count": 109,
   "metadata": {},
   "outputs": [
    {
     "name": "stdout",
     "output_type": "stream",
     "text": [
      "2.0 is not greater\n"
     ]
    }
   ],
   "source": [
    "mass = 2.0\n",
    "if mass > 3.0:\n",
    "    print(mass, 'is greater')\n",
    "else:\n",
    "    print(mass, 'is not greater')"
   ]
  },
  {
   "cell_type": "code",
   "execution_count": 112,
   "metadata": {},
   "outputs": [
    {
     "name": "stdout",
     "output_type": "stream",
     "text": [
      "3.0 is equal\n"
     ]
    }
   ],
   "source": [
    "mass = 3.0\n",
    "\n",
    "if mass > 3.0:\n",
    "    print(mass, 'is large')\n",
    "elif mass == 3.0:\n",
    "    print(mass, 'is equal')\n",
    "else:\n",
    "    print(mass, 'is less')"
   ]
  },
  {
   "cell_type": "code",
   "execution_count": 113,
   "metadata": {},
   "outputs": [
    {
     "name": "stdout",
     "output_type": "stream",
     "text": [
      "3.54 is large\n",
      "2.07 is small\n",
      "9.22 is HUGE\n",
      "1.86 is small\n",
      "1.71 is small\n"
     ]
    }
   ],
   "source": [
    "masses = [3.54, 2.07, 9.22, 1.86, 1.71]\n",
    "for m in masses:\n",
    "    if m > 9.0:\n",
    "        print(m, 'is HUGE')\n",
    "    elif m > 3:\n",
    "        print(m, 'is large')\n",
    "    else:\n",
    "        print(m, 'is small')"
   ]
  },
  {
   "cell_type": "code",
   "execution_count": 115,
   "metadata": {},
   "outputs": [
    {
     "name": "stdout",
     "output_type": "stream",
     "text": [
      "grade is C\n"
     ]
    }
   ],
   "source": [
    "grade = 85\n",
    "if grade >= 70:\n",
    "    print('grade is C')\n",
    "elif grade >= 80:\n",
    "    print('grade is B')\n",
    "elif grade >= 90:\n",
    "    print('grade is A')"
   ]
  },
  {
   "cell_type": "code",
   "execution_count": 116,
   "metadata": {},
   "outputs": [
    {
     "name": "stdout",
     "output_type": "stream",
     "text": [
      "grade is B\n"
     ]
    }
   ],
   "source": [
    "if grade >= 90:\n",
    "    print('grade is A')\n",
    "elif grade >= 80:\n",
    "    print('grade is B')\n",
    "elif grade >= 70:\n",
    "    print('grade is C')"
   ]
  },
  {
   "cell_type": "code",
   "execution_count": 117,
   "metadata": {},
   "outputs": [],
   "source": [
    "import numpy as np\n",
    "import matplotlib.pyplot as plt\n",
    "import glob"
   ]
  },
  {
   "cell_type": "code",
   "execution_count": 132,
   "metadata": {},
   "outputs": [
    {
     "name": "stdout",
     "output_type": "stream",
     "text": [
      "../data\\chlorophyll-01.csv looks ok\n",
      "../data\\chlorophyll-02.csv has a problem: negative mean\n",
      "../data\\chlorophyll-03.csv looks ok\n",
      "../data\\chlorophyll-04.csv looks ok\n",
      "../data\\chlorophyll-05.csv looks ok\n",
      "../data\\chlorophyll-06.csv looks ok\n",
      "../data\\chlorophyll-07.csv looks ok\n",
      "../data\\chlorophyll-08.csv looks ok\n",
      "../data\\chlorophyll-09.csv looks ok\n",
      "../data\\chlorophyll-10.csv looks ok\n",
      "../data\\chlorophyll-11.csv looks ok\n",
      "../data\\chlorophyll-12.csv looks ok\n"
     ]
    }
   ],
   "source": [
    "files = sorted(glob.glob('../data/chlorophyll-*.csv'))\n",
    "\n",
    "for f in files:\n",
    "    \n",
    "    data = np.loadtxt(f, delimiter = ',')\n",
    "    mean_data = np.mean(data)\n",
    "    if mean_data < 0:\n",
    "        print(f, 'has a problem: negative mean')\n",
    "    else:\n",
    "        print(f, 'looks ok')\n",
    "    #ave_profile = np.mean(data, axis=0)\n",
    "    #fig = plt.figure(figsize=(6, 8))\n",
    "    #ax = fig.add_subplot(111)\n",
    "    #ax.plot(ave_profile)\n",
    "    #print('The mean is:', np.mean(data))"
   ]
  },
  {
   "cell_type": "code",
   "execution_count": 127,
   "metadata": {},
   "outputs": [
    {
     "name": "stdout",
     "output_type": "stream",
     "text": [
      "[]\n"
     ]
    }
   ],
   "source": [
    "print(files)"
   ]
  },
  {
   "cell_type": "code",
   "execution_count": 151,
   "metadata": {},
   "outputs": [
    {
     "data": {
      "text/plain": [
       "Text(0.5, 1.0, 'Mean profile across all missions')"
      ]
     },
     "execution_count": 151,
     "metadata": {},
     "output_type": "execute_result"
    },
    {
     "data": {
      "image/png": "[encoded data removed]",
      "text/plain": [
       "<Figure size 432x288 with 1 Axes>"
      ]
     },
     "metadata": {
      "needs_background": "light"
     },
     "output_type": "display_data"
    }
   ],
   "source": [
    "depth = -1*np.arange(10, 310, 10)\n",
    "all_means = [] #creates an empty list to collect profiles\n",
    "\n",
    "\n",
    "for f in files:\n",
    "    data = np.loadtxt(f, delimiter = ',')\n",
    "    ave_profile = np.mean(data, axis=0) #Average profile for a single mission\n",
    "    mean_data = np.mean(data) #overall mean of a specific mission\n",
    "    if mean_data > 0: #the Chl concentration has to be positive\n",
    "        all_means.append(ave_profile) #if mean is positive, then append\n",
    "\n",
    "mean_profile = np.array(all_means)\n",
    "fig = plt.figure()\n",
    "ax = fig.add_subplot(111)\n",
    "ax.plot(np.mean(mean_profile, axis=0), depth)\n",
    "ax.set_ylabel('Depth [m]', fontsize=14)\n",
    "ax.set_xlabel('Chl [mg/m^3]', fontsize=14)\n",
    "ax.set_title('Mean profile across all missions', fontsize=14)"
   ]
  },
  {
   "cell_type": "code",
   "execution_count": 144,
   "metadata": {},
   "outputs": [
    {
     "name": "stdout",
     "output_type": "stream",
     "text": [
      "11\n"
     ]
    }
   ],
   "source": [
    "print(len(all_means))"
   ]
  },
  {
   "cell_type": "code",
   "execution_count": 145,
   "metadata": {},
   "outputs": [
    {
     "data": {
      "text/plain": [
       "[<matplotlib.lines.Line2D at 0x2bdd596a898>]"
      ]
     },
     "execution_count": 145,
     "metadata": {},
     "output_type": "execute_result"
    },
    {
     "data": {
      "image/png": "[encoded data removed]",
      "text/plain": [
       "<Figure size 432x288 with 1 Axes>"
      ]
     },
     "metadata": {
      "needs_background": "light"
     },
     "output_type": "display_data"
    }
   ],
   "source": [
    "plt.plot(all_means[-1])"
   ]
  },
  {
   "cell_type": "code",
   "execution_count": 146,
   "metadata": {},
   "outputs": [
    {
     "name": "stdout",
     "output_type": "stream",
     "text": [
      "(30,)\n"
     ]
    }
   ],
   "source": [
    "print(all_means[0].shape)"
   ]
  },
  {
   "cell_type": "code",
   "execution_count": 147,
   "metadata": {},
   "outputs": [
    {
     "name": "stdout",
     "output_type": "stream",
     "text": [
      "(11, 30)\n"
     ]
    }
   ],
   "source": [
    "mean_profile = np.array(all_means)\n",
    "print(mean_profile.shape)"
   ]
  },
  {
   "cell_type": "code",
   "execution_count": 148,
   "metadata": {},
   "outputs": [
    {
     "data": {
      "text/plain": [
       "[<matplotlib.lines.Line2D at 0x2bdd6134ef0>]"
      ]
     },
     "execution_count": 148,
     "metadata": {},
     "output_type": "execute_result"
    },
    {
     "data": {
      "image/png": "[encoded data removed]",
      "text/plain": [
       "<Figure size 432x288 with 1 Axes>"
      ]
     },
     "metadata": {
      "needs_background": "light"
     },
     "output_type": "display_data"
    }
   ],
   "source": [
    "plt.plot(np.mean(mean_profile, axis=0))"
   ]
  },
  {
   "cell_type": "code",
   "execution_count": null,
   "metadata": {},
   "outputs": [],
   "source": []
  }
 ],
 "metadata": {
  "kernelspec": {
   "display_name": "Python 3",
   "language": "python",
   "name": "python3"
  },
  "language_info": {
   "codemirror_mode": {
    "name": "ipython",
    "version": 3
   },
   "file_extension": ".py",
   "mimetype": "text/x-python",
   "name": "python",
   "nbconvert_exporter": "python",
   "pygments_lexer": "ipython3",
   "version": "3.7.3"
  }
 },
 "nbformat": 4,
 "nbformat_minor": 2
}
